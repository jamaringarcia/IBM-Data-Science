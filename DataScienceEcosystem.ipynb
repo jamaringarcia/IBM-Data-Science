{
 "cells": [
  {
   "cell_type": "markdown",
   "id": "a65f0d10-d74a-4856-85ec-62a3e24c491b",
   "metadata": {},
   "source": [
    "## Data Science Tools and Ecosystem"
   ]
  },
  {
   "cell_type": "markdown",
   "id": "7de63045-f914-4c28-967d-7b65d190fa6e",
   "metadata": {},
   "source": [
    "In this notebook, Data Science Tools and Ecosystem are summarized."
   ]
  },
  {
   "cell_type": "markdown",
   "id": "b43fb1a9-3c20-46b9-87e0-b0c7aa331af0",
   "metadata": {},
   "source": [
    "Some of the popular languages that Data Scientists use are:\n",
    "1. Python\n",
    "2. R\n",
    "3. Julia\n",
    "4. Java"
   ]
  },
  {
   "cell_type": "markdown",
   "id": "299a6971-efd9-48b3-b4ae-c5f872dfd8fc",
   "metadata": {},
   "source": [
    "Some of the commonly used libraries used by Data Scientists include:\n",
    "1. Pandas\n",
    "2. Mathplotlib\n",
    "3. Numpy\n",
    "4. Tensorflow"
   ]
  },
  {
   "cell_type": "markdown",
   "id": "433dc58a-39f5-4a0c-bdb2-4fb76b28317a",
   "metadata": {},
   "source": [
    "|Data Science Tools|\n",
    "|---|\n",
    "|Jupyter Notebooks|\n",
    "|Spider|\n",
    "|VS Code|"
   ]
  },
  {
   "cell_type": "markdown",
   "id": "d656a169-29fa-40d3-8cbd-68121bd33ae3",
   "metadata": {},
   "source": [
    "### Below are a few examples of evaluating arithmetic expressions in Python"
   ]
  },
  {
   "cell_type": "markdown",
   "id": "1f693c11-238c-43dd-8e63-4e8a4042da56",
   "metadata": {},
   "source": [
    "This a simple arithmetic expression to mutiply then add integers"
   ]
  },
  {
   "cell_type": "code",
   "execution_count": 3,
   "id": "a7bee791-6120-4744-9d04-a4d48d176e55",
   "metadata": {},
   "outputs": [
    {
     "data": {
      "text/plain": [
       "17"
      ]
     },
     "execution_count": 3,
     "metadata": {},
     "output_type": "execute_result"
    }
   ],
   "source": [
    "(3*4)+5"
   ]
  },
  {
   "cell_type": "markdown",
   "id": "0b3a6a9f-f2a6-4dc4-a753-f18fd1011a29",
   "metadata": {},
   "source": [
    "This will convert 200 minutes to hours by diving by 60"
   ]
  },
  {
   "cell_type": "code",
   "execution_count": 5,
   "id": "2ef46843-6855-44c0-af3e-78f3af867b13",
   "metadata": {},
   "outputs": [
    {
     "name": "stdout",
     "output_type": "stream",
     "text": [
      "3.3333333333333335\n"
     ]
    }
   ],
   "source": [
    "minutes = 200\n",
    "hours =minutes/60\n",
    "print(hours)"
   ]
  },
  {
   "cell_type": "markdown",
   "id": "abf161a6-db6b-44a2-a19d-624f8dc4dc21",
   "metadata": {},
   "source": [
    "Objetives:\n",
    "- List popular languages for Data Science\n",
    "- List of libraries\n",
    "- List of tools"
   ]
  },
  {
   "cell_type": "markdown",
   "id": "13836491-a3b1-4f27-8a23-bc1798533d2e",
   "metadata": {},
   "source": [
    "## Author: \n",
    "Jose Antonio"
   ]
  },
  {
   "cell_type": "code",
   "execution_count": null,
   "id": "51f08244-e614-481d-b711-dc59bb2467a6",
   "metadata": {},
   "outputs": [],
   "source": []
  }
 ],
 "metadata": {
  "kernelspec": {
   "display_name": "Python 3 (ipykernel)",
   "language": "python",
   "name": "python3"
  },
  "language_info": {
   "codemirror_mode": {
    "name": "ipython",
    "version": 3
   },
   "file_extension": ".py",
   "mimetype": "text/x-python",
   "name": "python",
   "nbconvert_exporter": "python",
   "pygments_lexer": "ipython3",
   "version": "3.11.9"
  }
 },
 "nbformat": 4,
 "nbformat_minor": 5
}
